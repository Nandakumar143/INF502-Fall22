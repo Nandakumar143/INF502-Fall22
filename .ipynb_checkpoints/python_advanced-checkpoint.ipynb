{
 "cells": [
  {
   "cell_type": "markdown",
   "id": "e9b79414-fea2-4d99-b251-d6acd649e050",
   "metadata": {},
   "source": [
    "# Python advanced\n",
    "\n",
    "This notebook show sample codes that helps you to understand the syntax of file manipulation and exception handling. *File manipulation* is crucial to deal with data that lives outside the Python code, such as text, CSV, or JSON files. *Exception handling* will help us to deal with erros that are not caught by the syntax analyzer and, however, only happens at execution time.\n",
    "\n",
    "## File manipulation\n",
    "\n",
    "In this fist section, we will learn how to manipulate files in Python.\n",
    "\n",
    "### Opening a file (read-only)\n",
    "\n",
    "In the following code, we read a CSV file in read-only mode. But the output is a bit odd because there is an additional line break between every line in the file."
   ]
  },
  {
   "cell_type": "code",
   "execution_count": 5,
   "id": "90010454-413f-4bfb-bf4a-e50b5e02f4cd",
   "metadata": {},
   "outputs": [
    {
     "name": "stdout",
     "output_type": "stream",
     "text": [
      "Line 1,animals,1,0\n",
      "\n",
      "Line 2,vegetables,0,5\n",
      "\n",
      "Line 3,animals,2,3\n",
      "\n",
      "Line 4,minerals,1,1\n",
      "\n",
      "Line 5,vegetables,2,2\n"
     ]
    }
   ],
   "source": [
    "file_handler = open('lines.csv', 'r')\n",
    "for line in file_handler.readlines():\n",
    "   print(line)\n",
    "file_handler.close()"
   ]
  },
  {
   "cell_type": "markdown",
   "id": "25399b61-67a4-49aa-8c1d-dfb5a5bc0279",
   "metadata": {},
   "source": [
    "To fix that, we need to use the ```rstrip()``` function as follows:"
   ]
  },
  {
   "cell_type": "code",
   "execution_count": 7,
   "id": "121ef37e-8b8a-4754-8086-6f526cb3e1b1",
   "metadata": {},
   "outputs": [
    {
     "name": "stdout",
     "output_type": "stream",
     "text": [
      "Line 1,animals,1,0\n",
      "Line 2,vegetables,0,5\n",
      "Line 3,animals,2,3\n",
      "Line 4,minerals,1,1\n",
      "Line 5,vegetables,2,2\n"
     ]
    }
   ],
   "source": [
    "file_handler = open('lines.csv', 'r')\n",
    "for line in file_handler.readlines():\n",
    "   print(line.rstrip('\\n'))   #remove the extra linebreaking\n",
    "file_handler.close()"
   ]
  },
  {
   "cell_type": "markdown",
   "id": "3064934c-75fb-4ebb-858c-fb70efa3d3fa",
   "metadata": {},
   "source": [
    "To manipulate these data in a more efficient way, it is useful to break each line into individual lists."
   ]
  },
  {
   "cell_type": "code",
   "execution_count": 8,
   "id": "dacd06d4-b024-4cf7-94a9-aed838759764",
   "metadata": {},
   "outputs": [
    {
     "name": "stdout",
     "output_type": "stream",
     "text": [
      "['Line 1', 'animals', '1', '0']\n",
      "['Line 2', 'vegetables', '0', '5']\n",
      "['Line 3', 'animals', '2', '3']\n",
      "['Line 4', 'minerals', '1', '1']\n",
      "['Line 5', 'vegetables', '2', '2']\n"
     ]
    }
   ],
   "source": [
    "file_handler = open('lines.csv', 'r')\n",
    "for line in file_handler.readlines():\n",
    "   line = line.rstrip('\\n')\n",
    "   field = line.split(',') #break the string into a list (split – comma)\n",
    "   print (field)\n",
    "file_handler.close()"
   ]
  },
  {
   "cell_type": "markdown",
   "id": "984998d1-0f16-4e98-b5a5-c01cf45fa707",
   "metadata": {},
   "source": [
    "### Writing to a file\n",
    "\n",
    "To write new lines to a file, we need to open using the ```'w'``` mode, instead of the ```'r'``` we used in the previous code. Note that the file is created if it does not exist. If the file does exist, it will be clean and rewritten.\n",
    "\n",
    "Run the code below and check the file ```other.csv```."
   ]
  },
  {
   "cell_type": "code",
   "execution_count": 17,
   "id": "22fbc179-193e-445a-84d6-3dc627da7c93",
   "metadata": {},
   "outputs": [],
   "source": [
    "file_handler = open('other.csv', 'w')\n",
    "list_1 = ('banana', 'carrot', 'avocado', 'orange', 'grapefruit')\n",
    "file_handler.writelines(list_1)\n",
    "file_handler.close()"
   ]
  },
  {
   "cell_type": "markdown",
   "id": "860011a2-d2d6-43f0-83be-ea5f487b940e",
   "metadata": {},
   "source": [
    "The outcome may not be what you're expecting. Perhaps you want to have each element in a single line. In this case, you may want to write the lines one at a time, as in the following code:"
   ]
  },
  {
   "cell_type": "code",
   "execution_count": 4,
   "id": "87d51e92-497c-4200-a026-3c89b5852f7c",
   "metadata": {},
   "outputs": [],
   "source": [
    "file_handler = open('other.csv', 'w')\n",
    "list_1 = ('banana', 'carrot', 'avocado', 'orange', 'grapefruit')\n",
    "for item in list_1:\n",
    "   file_handler.write(item + '\\n')\n",
    "file_handler.close()"
   ]
  },
  {
   "cell_type": "markdown",
   "id": "dd0829c8-531c-4db8-ac17-2f023ca8fd3e",
   "metadata": {},
   "source": [
    "Notice that the ```'w'``` option overwrites the file content every time you open the file. If you want to add more data to a file that already exists, them you should use the _append_ option (```a```)."
   ]
  },
  {
   "cell_type": "code",
   "execution_count": 8,
   "id": "7bae71c2-ed3c-466b-9306-846dabf92bbf",
   "metadata": {},
   "outputs": [],
   "source": [
    "file_handler = open('other.csv', 'a')\n",
    "list_2 = ('strawberry', 'lemon', 'guava')\n",
    "for item in list_2:\n",
    "   file_handler.write(item + '\\n')\n",
    "file_handler.close()"
   ]
  },
  {
   "cell_type": "markdown",
   "id": "3023c9d0-80a5-4228-8e5c-b9a9ba388496",
   "metadata": {},
   "source": [
    "Try other open modes and check the outcomes. Use the list below as a reference guide:\n",
    "* r (default) or rb (binary format): read-only. The file pointer is placed at the beginning of the file.\n",
    "* r+ or rb+ (binary format): reading and writing. The file pointer will be at the beginning of the file.\n",
    "* w or wb (binary format): write-only. Overwrites existing file. Creates the file if it does not exist.\n",
    "* w+ or wb+ (binary format): writing and reading. Overwrites existing file. Creates the file if it does not exist.\n",
    "* a or ab (binary format): append-only. Creates the file if it does not exist. If the file exists, the file pointer is at the end of the file.\n",
    "* a+ or ab+ (binary format): appending and reading. Creates the file if it does not exist. If the file exists, the file pointer is at the end of the file.\n",
    "* x: creates a new file, fails if the file already exists."
   ]
  },
  {
   "cell_type": "markdown",
   "id": "3e6240df-8711-4936-957a-51eb6781fcdb",
   "metadata": {},
   "source": [
    "### Removing a file\n",
    "\n",
    "We used the function `close()` to close files we opened without corrupting their integrity. However, sometimes we want to remove the file from our system completely (delete it from the file system). In this case, we need to use the `remove()` function.\n",
    "\n",
    "**WATCH OUT**: deleting files is permanent. If you cannot rebuild the data stored in it, then removing may not be your best option!"
   ]
  },
  {
   "cell_type": "code",
   "execution_count": 5,
   "id": "a94aac0a-99be-45e2-8668-ab3fc4e7cd7c",
   "metadata": {},
   "outputs": [],
   "source": [
    "import os\n",
    "os.remove(\"other.csv\")  #this line removes the file from the system PERMANENTLY"
   ]
  },
  {
   "cell_type": "markdown",
   "id": "2f89200d-e693-4d3e-a4ac-f80ef6030e41",
   "metadata": {},
   "source": [
    "## Exception handling\n",
    "\n",
    "An exception occurs when the syntax of the code is correct, but the execution behaves unexpectedly. For example, let's try to remove a file that does not exist:"
   ]
  },
  {
   "cell_type": "code",
   "execution_count": 6,
   "id": "e720cd77-fe8f-4353-a1d2-b466f4fa0233",
   "metadata": {},
   "outputs": [
    {
     "ename": "FileNotFoundError",
     "evalue": "[Errno 2] No such file or directory: 'other.csv'",
     "output_type": "error",
     "traceback": [
      "\u001b[0;31m---------------------------------------------------------------------------\u001b[0m",
      "\u001b[0;31mFileNotFoundError\u001b[0m                         Traceback (most recent call last)",
      "Input \u001b[0;32mIn [6]\u001b[0m, in \u001b[0;36m<cell line: 1>\u001b[0;34m()\u001b[0m\n\u001b[0;32m----> 1\u001b[0m \u001b[43mos\u001b[49m\u001b[38;5;241;43m.\u001b[39;49m\u001b[43mremove\u001b[49m\u001b[43m(\u001b[49m\u001b[38;5;124;43m\"\u001b[39;49m\u001b[38;5;124;43mother.csv\u001b[39;49m\u001b[38;5;124;43m\"\u001b[39;49m\u001b[43m)\u001b[49m\n",
      "\u001b[0;31mFileNotFoundError\u001b[0m: [Errno 2] No such file or directory: 'other.csv'"
     ]
    }
   ],
   "source": [
    "import os\n",
    "os.remove(\"other.csv\")"
   ]
  },
  {
   "cell_type": "markdown",
   "id": "11a2d9a6-6833-48bb-a505-156868f23d6b",
   "metadata": {},
   "source": [
    "The `FileNotFoundError` in this message cannot be captured by the syntax analyzer because the syntax is correct. However, the file does not exist, so an error will be throw out. When we know that an exception may occur, the best practices ask us to handle it by encapsulating the possible problematic statement (or block) into a `try... except.. else... finaly...`.\n",
    "\n",
    "* The `try` block encapsulates the statments that may result in exception.\n",
    "* The `except` block indicates the error that may occur and how the system should behave. You may have multiple `except` blocks if more than one exception type may occur.\n",
    "* The `else` block encapsulates the statements that are executed if the code does not throw any exceptions.\n",
    "* The `finally` block includes statements that are always executed, no matter whether the exception happens or not"
   ]
  },
  {
   "cell_type": "code",
   "execution_count": 9,
   "id": "e476f540-2c0b-448a-b1ab-3cc3c67b8f76",
   "metadata": {},
   "outputs": [
    {
     "name": "stdout",
     "output_type": "stream",
     "text": [
      "File other.csv removed.\n",
      "End of the program.\n"
     ]
    }
   ],
   "source": [
    "import os\n",
    "\n",
    "filename = \"other.csv\"\n",
    "try:    #try to remove the file \"other.csv\"\n",
    "    os.remove(filename)\n",
    "except FileNotFoundError: #if a FileNotFoundError happens when it tries...\n",
    "    print(\"There is no file named\", filename)  #Log the problem\n",
    "else:\n",
    "    print(\"File\", filename, \"removed.\")\n",
    "finally:\n",
    "    print(\"End of the program.\")"
   ]
  },
  {
   "cell_type": "markdown",
   "id": "a95a776d-f957-4c73-bb65-e6167213aea6",
   "metadata": {},
   "source": [
    "When we run this code, because we already deleted the file `\"other.csv\"`, the code will throw an exception, which will be caught by the `except` block. Now, try to create the file again and re-run this code. The `try` block will run and the file will be removed with no errors. In both cases, the program ends successfully with the `\"End of the program\"` message.\n",
    "\n",
    "As we can see, the exception handling allows us to finish a program sucessfully, even when errors may occur.\n",
    "\n",
    "Let's see another example:\n",
    "\n",
    "In the state of Arizona (USA), the drinking age is 21 years old. Let's write a Python code that checks the drinking age of a person."
   ]
  },
  {
   "cell_type": "code",
   "execution_count": 17,
   "id": "0cc04c08-4f40-4ff6-aba2-88a717156360",
   "metadata": {},
   "outputs": [
    {
     "name": "stdout",
     "output_type": "stream",
     "text": [
      "Are you authorized to drink in AZ?\n"
     ]
    },
    {
     "name": "stdin",
     "output_type": "stream",
     "text": [
      "Type your age:  55\n"
     ]
    },
    {
     "name": "stdout",
     "output_type": "stream",
     "text": [
      "You can drink.\n"
     ]
    }
   ],
   "source": [
    "print (\"Are you authorized to drink in AZ?\")\n",
    "\n",
    "success = False\n",
    "\n",
    "while not success:\n",
    "    try:\n",
    "        age = input (\"Type your age: \")\n",
    "        age = int(age)   ##In this case, if the user input a non-integer data (a character for example), this line will result in an error\n",
    "\n",
    "    except ValueError:  ##Catpures the cast error\n",
    "        print (\"The value typed is not an integer.\")\n",
    "    else:\n",
    "        if (age < 21):\n",
    "            print (\"You cannot drink.\")\n",
    "        else:\n",
    "            print (\"You can drink.\")\n",
    "        success = True"
   ]
  },
  {
   "cell_type": "markdown",
   "id": "b51d7eb8-e88e-45e7-be66-2d61f2e37d15",
   "metadata": {},
   "source": [
    "Some exceptions are predefined, but you can create you're own! See the example below:"
   ]
  },
  {
   "cell_type": "code",
   "execution_count": 18,
   "id": "3e1e6c65-d5c5-4be5-854b-b45da82b3e1e",
   "metadata": {},
   "outputs": [],
   "source": [
    "def canDrink(age):\n",
    "    if (age < 0):\n",
    "        #a new ValueError will be raised to who called canDrink\n",
    "        my_error = ValueError(\"{0} is not a valid age.\". format(age)) \n",
    "        raise my_error    ##This line raises an exception in case age is < 0.\n",
    "\n",
    "    #if age >= 21, result is True. Otherwise, it receives False.\n",
    "    result = True if (age >= 21) else False\n",
    "    return result"
   ]
  },
  {
   "cell_type": "code",
   "execution_count": 20,
   "id": "364f62e2-49dc-4a32-8d4c-11235a1d25d8",
   "metadata": {},
   "outputs": [
    {
     "name": "stdout",
     "output_type": "stream",
     "text": [
      "Are you authorized to drink in AZ?\n"
     ]
    },
    {
     "name": "stdin",
     "output_type": "stream",
     "text": [
      "Type your age:  df\n"
     ]
    },
    {
     "name": "stdout",
     "output_type": "stream",
     "text": [
      "The value typed is not an integer.\n"
     ]
    },
    {
     "name": "stdin",
     "output_type": "stream",
     "text": [
      "Type your age:  adf\n"
     ]
    },
    {
     "name": "stdout",
     "output_type": "stream",
     "text": [
      "The value typed is not an integer.\n"
     ]
    },
    {
     "name": "stdin",
     "output_type": "stream",
     "text": [
      "Type your age:  20\n"
     ]
    },
    {
     "name": "stdout",
     "output_type": "stream",
     "text": [
      "You cannot drink.\n"
     ]
    }
   ],
   "source": [
    "print (\"Are you authorized to drink in AZ?\")\n",
    "\n",
    "success = False\n",
    "\n",
    "while not success:\n",
    "    try:\n",
    "        age = input (\"Type your age: \")\n",
    "        age = int(age)   ##In this case, if the user input a non-integer data (a character for example), this line will result in an error\n",
    "    except ValueError:  ##Catpures the cast error\n",
    "        print (\"The value typed is not an integer.\")\n",
    "    else:\n",
    "        if not canDrink(age):\n",
    "            print (\"You cannot drink.\")\n",
    "        else:\n",
    "            print (\"You can drink.\")\n",
    "        success = True"
   ]
  },
  {
   "cell_type": "markdown",
   "id": "16ae5a6f-8d3d-42bd-a685-1fca129145d8",
   "metadata": {},
   "source": [
    "## Modularization\n",
    "\n",
    "Sometimes a program gets to big to be manageable. That's when it becomes important to create modules and separate code into meaningful, smaller files. Python has predefined modules that we may import into our code when needed. In this notebook, we have already used ```import os``` to use the ```remove()``` function, and you might be familiar with some functions from the ```import math``` module.\n",
    "\n",
    "Let's see some examples of imported libraries:"
   ]
  },
  {
   "cell_type": "code",
   "execution_count": 33,
   "id": "76cfe645-3e2a-408a-90aa-15a6bfa568e8",
   "metadata": {},
   "outputs": [
    {
     "name": "stdout",
     "output_type": "stream",
     "text": [
      "6 2 3 5 8 3 3 4 2 9 6 7 10 4 1 5 "
     ]
    }
   ],
   "source": [
    "import random\n",
    "\n",
    "for i in range(0,16):    #run this block 15 times\n",
    "    number = random.randrange(0,11) #generates a random number between 0 and 10 (not including the 11)\n",
    "    print(number, end=\" \")"
   ]
  },
  {
   "cell_type": "code",
   "execution_count": 34,
   "id": "deb4637f-978b-41c9-85ad-17a3da2debbe",
   "metadata": {},
   "outputs": [
    {
     "name": "stdout",
     "output_type": "stream",
     "text": [
      "2022-09-04 22:10:03.096012\n"
     ]
    }
   ],
   "source": [
    "import datetime\n",
    "\n",
    "x = datetime.datetime.now()   #returns the current date and time\n",
    "print(x)"
   ]
  },
  {
   "cell_type": "code",
   "execution_count": 35,
   "id": "13f3c7cb-d25f-410d-adf1-3c73a263385c",
   "metadata": {},
   "outputs": [
    {
     "name": "stdout",
     "output_type": "stream",
     "text": [
      "8.0\n"
     ]
    }
   ],
   "source": [
    "import math\n",
    "\n",
    "x = math.sqrt(64)\n",
    "print(x)"
   ]
  },
  {
   "cell_type": "code",
   "execution_count": 36,
   "id": "26e5dc1f-50b9-4cb3-9c3b-18004e23cabd",
   "metadata": {},
   "outputs": [
    {
     "name": "stdout",
     "output_type": "stream",
     "text": [
      "['.Rhistory', '.config', 'Music', '.anyconnect', '.DS_Store', '.CFUserTextEncoding', 'Untitled.ipynb', '.local', 'OneDrive - Northern Arizona University', 'Pictures', '.ipython', 'Desktop', 'Library', '.lesshst', '.bash_sessions', 'Public', '.idlerc', '.cisco', '.ssh', 'Movies', 'Applications', '.Trash', '.ipynb_checkpoints', '.jupyter', 'Documents', '.bash_profile', 'Downloads', '.python_history', '.gitconfig', '.bash_history', '.viminfo']\n"
     ]
    }
   ],
   "source": [
    "import os\n",
    "HOME = os.environ['HOME']\n",
    "print(os.listdir(HOME)) ##List the directories in the system's home folder"
   ]
  },
  {
   "cell_type": "markdown",
   "id": "9a6af9a4-09c2-4e9a-b211-e71561902136",
   "metadata": {},
   "source": [
    "We can create our own modules. To do so, create a .py file containing your useful functions. Then, import the .py file using an ```import``` command followed by the name of the file.\n",
    "\n",
    "In the following example, we are importing a code from the file ```myModule.py```."
   ]
  },
  {
   "cell_type": "code",
   "execution_count": 37,
   "id": "01a057de-f3e7-4115-96f9-0fbd9ec70ec4",
   "metadata": {},
   "outputs": [
    {
     "name": "stdout",
     "output_type": "stream",
     "text": [
      "This function belongs to my Module\n",
      "This is another function in my module\n"
     ]
    }
   ],
   "source": [
    "import myModule #imports the functions from myModule.py file\n",
    "\n",
    "myModule.myFunction()\n",
    "myModule.anotherFunction()"
   ]
  }
 ],
 "metadata": {
  "kernelspec": {
   "display_name": "Python 3 (ipykernel)",
   "language": "python",
   "name": "python3"
  },
  "language_info": {
   "codemirror_mode": {
    "name": "ipython",
    "version": 3
   },
   "file_extension": ".py",
   "mimetype": "text/x-python",
   "name": "python",
   "nbconvert_exporter": "python",
   "pygments_lexer": "ipython3",
   "version": "3.10.7"
  }
 },
 "nbformat": 4,
 "nbformat_minor": 5
}
