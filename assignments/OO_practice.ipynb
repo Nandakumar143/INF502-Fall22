{
  "cells": [
    {
      "cell_type": "markdown",
      "metadata": {
        "id": "view-in-github",
        "colab_type": "text"
      },
      "source": [
        "<a href=\"https://colab.research.google.com/github/chavesana/INF502-Fall22/blob/main/assignments/OO_practice.ipynb\" target=\"_parent\"><img src=\"https://colab.research.google.com/assets/colab-badge.svg\" alt=\"Open In Colab\"/></a>"
      ]
    },
    {
      "cell_type": "markdown",
      "id": "b1151618-1aac-49d9-96a3-cef0328904a8",
      "metadata": {
        "id": "b1151618-1aac-49d9-96a3-cef0328904a8"
      },
      "source": [
        "**Instructions:** Make a copy of this Jupyter Notebook. Create the Python code that solve the problems in the indicated chuncks of code. Save the file and submit to your instructor."
      ]
    },
    {
      "cell_type": "markdown",
      "id": "e4ce15d5-444d-4721-939e-1119cb52fca2",
      "metadata": {
        "id": "e4ce15d5-444d-4721-939e-1119cb52fca2"
      },
      "source": [
        "### Problem 1\n",
        "\n",
        "Consider the class `Point` we defined in class (code provided below). Add the following methods to the class:\n",
        "1. `distance_from_zero(self)`: a method that returns the distance from the point to the origin of the plane (position 0,0)\n",
        "2. `distance (self, otherPoint)`: a method that returns the distance from the object to `other` point received via parameter"
      ]
    },
    {
      "cell_type": "code",
      "execution_count": null,
      "id": "af6be63a-16ad-42dc-bf56-06ede6588651",
      "metadata": {
        "id": "af6be63a-16ad-42dc-bf56-06ede6588651"
      },
      "outputs": [],
      "source": [
        "import math\n",
        "\n",
        "class Point:  \n",
        "    def __init__(self):  #self indicates this Point object\n",
        "        self.__x = 0   #notice the double underscore, which makes the x and y attributes private\n",
        "        self.__y = 0   #private attributes cannot be accessed outside the class\n",
        "    \n",
        "    def printAttributes(self):\n",
        "        print(\"x =\", self.__x, \"\\ny =\", self.__y)\n",
        "    \n",
        "    def translate(self, dx, dy):\n",
        "        self.__x += dx    #syntax tips: same as self.x = self.x + dx\n",
        "        self.__y += dy\n",
        "        \n",
        "    #add your methods here\n",
        "    \n",
        "    \n",
        "    #getters and setters\n",
        "    def getX(self):\n",
        "        return self.__x\n",
        "    def getY(self):\n",
        "        return self.__y\n",
        "    \n",
        "    def setX(self, newX):\n",
        "        self.__x = newX\n",
        "    def setY(self, newY):\n",
        "        self.__y = newY"
      ]
    },
    {
      "cell_type": "markdown",
      "id": "ace5c308-2046-4437-8d16-c2952f78b6ab",
      "metadata": {
        "id": "ace5c308-2046-4437-8d16-c2952f78b6ab"
      },
      "source": [
        "Then, write a code to test your methods:\n",
        "1. create a `point1` object and set its location to (3, 4);\n",
        "2. call the method `distance_from_zero()` for `point1` object to calculate the distance between `point1` and zero, and print the result;\n",
        "3. create a `point2` object and set its location to (-2, -5);\n",
        "4. call the method `distance()` for `point1` object to calculate the distance between `point1` and `point2` (informed as an argument to the method). Print the results."
      ]
    },
    {
      "cell_type": "code",
      "execution_count": null,
      "id": "9f49d996-1b00-4949-b7ae-62f4b9a8147e",
      "metadata": {
        "id": "9f49d996-1b00-4949-b7ae-62f4b9a8147e"
      },
      "outputs": [],
      "source": [
        "#write your code here"
      ]
    },
    {
      "cell_type": "markdown",
      "id": "d1659fe0-e645-4740-9228-c04e0e9943b5",
      "metadata": {
        "id": "d1659fe0-e645-4740-9228-c04e0e9943b5"
      },
      "source": [
        "### Problem 2\n",
        "\n",
        "Write a Python code that creates 2 classes:\n",
        "* `Contact`: an abstraction of the contacts in your Contact List. Represent this class of objects as something with the attributes `name` and `email_address`. Make the attributes private and create getters and setters to allow for reading and updating the attributes. The constructor should allow either providing the name and email as arguments or calling an empty constructor (e.g., `Contact(\"AName\", \"AnEmail@email.com\")` or `Contact()`). Also, whenever one `Contact` object is printed, it should be in the following format:\n",
        "\n",
        "```\n",
        "Aname <AnEmail@email.com>\n",
        "```"
      ]
    },
    {
      "cell_type": "code",
      "execution_count": null,
      "id": "3bd3687a-fdc6-4dd0-a391-456d88898d5c",
      "metadata": {
        "id": "3bd3687a-fdc6-4dd0-a391-456d88898d5c"
      },
      "outputs": [],
      "source": [
        "#write the Contact class here"
      ]
    },
    {
      "cell_type": "markdown",
      "id": "4c489239-955f-4a45-b0e0-93ad06062c9e",
      "metadata": {
        "id": "4c489239-955f-4a45-b0e0-93ad06062c9e"
      },
      "source": [
        "* `Email`: class that represents the email itself, which contains the private attributes `recipients` (as a list of Contact objects), `sender`, `body`, `subject`, a `draft` flag (`True` or `False`) identifying whether the email was sent or not. Besides the setters and getters, include the following methods:\n",
        "    * `add_recipient(self, contact):` adds a single recipient received as an argument to the recipients list\n",
        "    * `save_draft(self):` marks the draft flag as True\n",
        "    * `send_email(self):` check whether all the attributes are filled. If not, raise a ValueError exception with the message \"Email can't be sent with empty fields.\" Otherwise, set the draft to False, indicating that the email was sent.\n",
        "Create a readable format for printing the object Email."
      ]
    },
    {
      "cell_type": "code",
      "execution_count": null,
      "id": "763ed9a2-f5f7-45d5-9a6c-ff64c5a1370f",
      "metadata": {
        "id": "763ed9a2-f5f7-45d5-9a6c-ff64c5a1370f"
      },
      "outputs": [],
      "source": [
        "#write the Email class here"
      ]
    },
    {
      "cell_type": "markdown",
      "id": "5a46f217-18e7-4fc7-b20e-d40ad6d78066",
      "metadata": {
        "id": "5a46f217-18e7-4fc7-b20e-d40ad6d78066"
      },
      "source": [
        "Finally, write a code that shows your classes work!"
      ]
    },
    {
      "cell_type": "code",
      "execution_count": null,
      "id": "a2b3d154-9a14-47af-9ada-5ebd26148523",
      "metadata": {
        "id": "a2b3d154-9a14-47af-9ada-5ebd26148523"
      },
      "outputs": [],
      "source": [
        "#write your tests here"
      ]
    },
    {
      "cell_type": "markdown",
      "id": "4eef2b9d-6b9c-45ac-b6bf-b12127d741d8",
      "metadata": {
        "id": "4eef2b9d-6b9c-45ac-b6bf-b12127d741d8"
      },
      "source": [
        "### Problem 3"
      ]
    },
    {
      "cell_type": "markdown",
      "id": "f390c22b-7967-4d5e-88ae-eb2b69b12078",
      "metadata": {
        "id": "f390c22b-7967-4d5e-88ae-eb2b69b12078"
      },
      "source": [
        "We want to write a program to manage a movie collection. You need to use OO design and follow the constraints below:\n",
        "\n",
        "1. A `Movie` needs to have a `title`, `genres` (may be more than one), `year` of release, `my review`, a list of `actors`, a `watch counter` (how many times I watched), `borrowed` (a flag - `True/False` - that says if this movie is currently with someone), and the `borrower name`.\n",
        "2. We can interact with a movie by: \n",
        "  - watching the movie (increase the watch counter), \n",
        "  - writing a review about the movie, \n",
        "  - setting any of the fields (except for the flag, borrower, and counter, which are changed by different actions)\n",
        "  - lending the movie (set the borrower name and change the flag)\n",
        "  - returning the moving (set borrower to \"\" and flag to False)\n",
        "  - print the movies details in the following formats (borrowed/non-borrowed):\n",
        "\n",
        "  ```\n",
        "     Movie: The Godfather     Year: 1972\n",
        "     Genre: Crime, Drama\n",
        "     List of Actors:\n",
        "         Marlon Brando\n",
        "         Al Pacino\n",
        "         Robert Duvall\n",
        "     Borrowed? No\n",
        "   ```\n",
        "   ```  \n",
        "     Movie: Casablanca     Year: 1942\n",
        "     Genre: Romance, War\n",
        "     List of Actors:\n",
        "         Humphrey Bogart\n",
        "         Ingrid Bergman\n",
        "         Paul Henreid\n",
        "     Borrowed? Yes, Petter Jhonson\n",
        "  ```\n",
        "  \n",
        "3. The list of actors contains objects of type `Actor`, which are composed of `name`, `date_of_birth`, and `nationality`. You should be able to:\n",
        "  - set/get the fields name, date_of_birth, and nationality."
      ]
    },
    {
      "cell_type": "code",
      "source": [
        "#write you code here"
      ],
      "metadata": {
        "id": "rmUyuHhoWcSZ"
      },
      "id": "rmUyuHhoWcSZ",
      "execution_count": null,
      "outputs": []
    }
  ],
  "metadata": {
    "kernelspec": {
      "display_name": "Python 3 (ipykernel)",
      "language": "python",
      "name": "python3"
    },
    "language_info": {
      "codemirror_mode": {
        "name": "ipython",
        "version": 3
      },
      "file_extension": ".py",
      "mimetype": "text/x-python",
      "name": "python",
      "nbconvert_exporter": "python",
      "pygments_lexer": "ipython3",
      "version": "3.10.6"
    },
    "colab": {
      "provenance": [],
      "include_colab_link": true
    }
  },
  "nbformat": 4,
  "nbformat_minor": 5
}